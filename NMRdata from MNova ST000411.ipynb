{
 "cells": [
  {
   "cell_type": "markdown",
   "id": "daff453f",
   "metadata": {},
   "source": [
    "## pyMETAflow for NMR\n",
    "\n",
    "#### Overview\n",
    "This notebook demonstrates a complete workflow for processing and analyzing NMR/metabolomics data.  The analysis leverages a custom module (data_processing_NMR.py) that contains functions for:\n",
    "\n",
    "* **Data Extraction & Import:**  \n",
    "  Reading NMR data exported from MNova, combining CSV files, and organizing the data.\n",
    "  \n",
    "\n",
    "* **Preprocessing:**  \n",
    "  Filtering by chemical shift ranges, masking unwanted spectral regions, and removing unwanted samples.\n",
    "\n",
    "\n",
    "* **Spectral Referencing & Alignment:**  \n",
    "  Referencing spectra (e.g., aligning the reference peak at 0.0 ppm) and applying multiple alignment methods (ICOSHIFT, RAFFT, PAFFT) to ensure spectra are properly aligned.\n",
    "\n",
    "\n",
    "* **Visualization:**  \n",
    "  Generating interactive plots for the raw and processed spectra, including vertical multiplots and histograms.\n",
    "\n",
    "\n",
    "* **STOCSY Analysis:**  \n",
    "  Performing Statistical Total Correlation Spectroscopy (STOCSY) to explore covariance and correlation across the spectra.\n",
    "\n",
    "\n",
    "* **Data Transformation, Normalization & Scaling:**  \n",
    "  Applying log, square root, and cube root transformations along with several normalization (Z-score, PQN, etc.) and scaling (mean centering, Pareto, etc.) techniques.\n",
    "\n",
    "\n",
    "* **Multivariate Analysis:**  \n",
    "  Running Principal Component Analysis (PCA) and Partial Least Squares Discriminant Analysis (PLS-DA) for dimensionality reduction, group separation, and variable importance (VIP) evaluation.\n",
    "\n",
    "\n",
    "* **Export:**  \n",
    "  Preparing the processed data for further analysis in tools like MetaboAnalyst.\n",
    "\n",
    "\n",
    "\n",
    "This notebook is organized into sections that follow the natural progression of data analysis—from data import and initial visualization to preprocessing, advanced alignment, multivariate analysis, and finally, reporting of the results."
   ]
  },
  {
   "cell_type": "markdown",
   "id": "5fc68e11",
   "metadata": {},
   "source": [
    "### 1. Import Essential Libraries\n",
    "\n",
    "In this section we load all the required libraries and modules. This includes standard packages (e.g., NumPy, Pandas, Matplotlib), machine learning and statistical tools (e.g., scikit-learn, seaborn), spectral alignment libraries (e.g., Icoshift), and interactive plotting tools (Plotly). We also import our custom data processing functions from data_processing_NMR.py."
   ]
  },
  {
   "cell_type": "code",
   "execution_count": null,
   "id": "1695511c",
   "metadata": {
    "scrolled": true
   },
   "outputs": [],
   "source": [
    "# Import essential libraries\n",
    "import os\n",
    "import os.path\n",
    "import glob\n",
    "import pandas as pd\n",
    "import numpy as np\n",
    "import matplotlib.pyplot as plt\n",
    "import matplotlib.collections as mc\n",
    "from sklearn.preprocessing import StandardScaler, MinMaxScaler\n",
    "from sklearn.decomposition import PCA\n",
    "from sklearn.cross_decomposition import PLSRegression\n",
    "from sklearn.model_selection import cross_val_predict\n",
    "from sklearn.metrics import accuracy_score, classification_report\n",
    "import seaborn as sns\n",
    "\n",
    "from pyicoshift import Icoshift\n",
    "from scipy.io import loadmat\n",
    "\n",
    "import plotly.io as pio\n",
    "import plotly.graph_objects as go\n",
    "\n",
    "import data_processing_NMR as dp"
   ]
  },
  {
   "cell_type": "markdown",
   "id": "4a71266a",
   "metadata": {},
   "source": [
    "---\n",
    "### 2. Setting the Working Directory and Data Import\n",
    "\n",
    "Here, we set the working directory to the folder containing our data and metadata files. We then load the NMR data using our extraction functions. We also check the shape of the data and load the corresponding metadata."
   ]
  },
  {
   "cell_type": "code",
   "execution_count": null,
   "id": "98ca35e4",
   "metadata": {},
   "outputs": [],
   "source": [
    "directory_path = r'C:\\Users\\borge\\Documents\\PyMetaboFlow\\ST000411'\n",
    "os.chdir(directory_path)\n",
    "%pwd"
   ]
  },
  {
   "cell_type": "code",
   "execution_count": null,
   "id": "0167de9f",
   "metadata": {},
   "outputs": [],
   "source": [
    "# Import data\n",
    "filename = \"ST000411.csv\"\n",
    "\n",
    "# Change to the target directory (optional)\n",
    "os.chdir(directory_path)\n",
    "\n",
    "# Load and display the data\n",
    "data = dp.extract_data_NMRMNova(os.path.join(directory_path, filename))\n",
    "print(f\"Data size: {data.shape}\")\n",
    "print(f\"Data size (no axis): {(data.drop(columns='Chemical Shift (ppm)').shape)}\")"
   ]
  },
  {
   "cell_type": "markdown",
   "id": "5f6a1e98",
   "metadata": {},
   "source": [
    "#### Metadata import for group specifics"
   ]
  },
  {
   "cell_type": "code",
   "execution_count": null,
   "id": "69d7b055",
   "metadata": {},
   "outputs": [],
   "source": [
    "# Create the Target Vector for the supervision tool (PLS-DA)\n",
    "df_metadata = pd.read_csv(\"Metadata.csv\", sep=\";\")\n",
    "df_metadata.shape"
   ]
  },
  {
   "cell_type": "markdown",
   "id": "152b7162",
   "metadata": {},
   "source": [
    "---\n",
    "### 3. Visualization of the Raw NMR Spectra\n",
    "\n",
    "We plot the raw NMR spectra to inspect the quality and overall structure of the data. This initial visualization helps identify any artifacts or unwanted regions."
   ]
  },
  {
   "cell_type": "code",
   "execution_count": null,
   "id": "6e353a23",
   "metadata": {},
   "outputs": [],
   "source": [
    "dp.create_nmr_plot(data, \n",
    "                    x_axis_col='Chemical Shift (ppm)', \n",
    "                    start_column=1, \n",
    "                    end_column=None, \n",
    "                    title='NMR Spectra Overlapping',\n",
    "                    xaxis_title='Chemical Shift (ppm)',\n",
    "                    yaxis_title='Intensity',\n",
    "                    legend_title='Samples',\n",
    "                    output_dir='images', \n",
    "                    output_file='nmr_spectra_overlapping.html',\n",
    "                    show_fig=False)"
   ]
  },
  {
   "cell_type": "markdown",
   "id": "d840b18b",
   "metadata": {},
   "source": [
    "---\n",
    "### 4. Data Filtering and Masking\n",
    "\n",
    "This section shows how to filter the spectra by chemical shift range and mask out unwanted regions. We:\n",
    "\n",
    "* Clip the spectral region (e.g., between 0.5 and 10 ppm).\n",
    "* Remove specific regions (e.g., solvent or interference peaks) by setting them to zero."
   ]
  },
  {
   "cell_type": "code",
   "execution_count": null,
   "id": "f6a649ed",
   "metadata": {},
   "outputs": [],
   "source": [
    "# Define start and end for the region to zero out\n",
    "start_limit = -0.5\n",
    "end_limit = 10\n",
    "\n",
    "# Remove regions\n",
    "modified_df = dp.filter_chemical_shift(data, start_limit=start_limit, end_limit=end_limit)\n",
    "\n",
    "dp.create_nmr_plot(modified_df, \n",
    "                    x_axis_col='Chemical Shift (ppm)', \n",
    "                    start_column=1, \n",
    "                    end_column=None, \n",
    "                    title='NMR Spectra Overlapping',\n",
    "                    xaxis_title='Chemical Shift (ppm)',\n",
    "                    yaxis_title='Intensity',\n",
    "                    legend_title='Samples',\n",
    "                    output_dir='images', \n",
    "                    output_file='nmr_spectra_overlapping_filtered.html',\n",
    "                    show_fig=False)\n",
    "\n",
    "print(f\"Spectrta was cliped between {start_limit} and {end_limit} ppm.\")"
   ]
  },
  {
   "cell_type": "code",
   "execution_count": null,
   "id": "00b97ab7",
   "metadata": {},
   "outputs": [],
   "source": [
    "# Define start and end for the region to zero out\n",
    "regions_to_mask = [(4.66,5.2), (5.52,6.2)]  # Define regions where values should be set to zero\n",
    "\n",
    "filtered_df = dp.mask_regions_with_zeros(modified_df, regions_to_mask)\n",
    "\n",
    "dp.create_nmr_plot(filtered_df, \n",
    "                    x_axis_col='Chemical Shift (ppm)', \n",
    "                    start_column=1, \n",
    "                    end_column=None, \n",
    "                    title='Cliped NMR Spectra Overlapping',\n",
    "                    xaxis_title='Chemical Shift (ppm)',\n",
    "                    yaxis_title='Intensity',\n",
    "                    legend_title='Samples',\n",
    "                    output_dir='images', \n",
    "                    output_file='nmr_spectra_overlapping_filtered.html',\n",
    "                    show_fig=False)\n",
    "\n",
    "print(f\"Region between {regions_to_mask} ppm was removed.\")"
   ]
  },
  {
   "cell_type": "code",
   "execution_count": null,
   "id": "18500355",
   "metadata": {},
   "outputs": [],
   "source": [
    "# Remove unwanted samples (e.g. \"filename\")\n",
    "\n",
    "samples_to_remove = [ \n",
    "                     ]\n",
    "\n",
    "filtered_df = filtered_df.drop(columns=samples_to_remove)"
   ]
  },
  {
   "cell_type": "markdown",
   "id": "462f41a1",
   "metadata": {},
   "source": [
    "---\n",
    "### 5. Referencing and Alignment\n",
    "\n",
    "To ensure all spectra are on a common scale:\n",
    "\n",
    "* We reference the spectra (e.g., aligning the reference peak at 0.0 ppm).\n",
    "* We then align the spectra using several methods (ICOSHIFT, RAFFT, PAFFT) to compare and select the best alignment method.\n",
    "\n",
    "A vertical multiplot is created to visually compare the different alignment strategies."
   ]
  },
  {
   "cell_type": "code",
   "execution_count": null,
   "id": "7d863964",
   "metadata": {},
   "outputs": [],
   "source": [
    "# Reference should be at 0.0 ppm (e.g., DSS):\n",
    "referenced_df, offsets = dp.ref_spectra_to_df(filtered_df, \n",
    "                                              thresh=0.01, \n",
    "                                              offsetppm=0.0, \n",
    "                                              interactive=False, \n",
    "                                              xlim=(-0.2, 0.2))\n",
    "\n",
    "dp.create_nmr_plot(referenced_df, \n",
    "                    x_axis_col='Chemical Shift (ppm)', \n",
    "                    start_column=1, \n",
    "                    end_column=None, \n",
    "                    title='Cliped NMR Spectra Overlapping',\n",
    "                    xaxis_title='Chemical Shift (ppm)',\n",
    "                    yaxis_title='Intensity',\n",
    "                    legend_title='Samples',\n",
    "                    output_dir='images', \n",
    "                    output_file='nmr_spectra_overlapping_referenced.html',\n",
    "                    show_fig=False)\n"
   ]
  },
  {
   "cell_type": "code",
   "execution_count": null,
   "id": "7fdd35a8",
   "metadata": {},
   "outputs": [],
   "source": [
    "# Define start and end for the region to zero out\n",
    "start_limit = 0.5\n",
    "end_limit = 10\n",
    "\n",
    "# Remove regions\n",
    "referenced_df = dp.filter_chemical_shift(referenced_df, \n",
    "                                         start_limit=start_limit, \n",
    "                                         end_limit=end_limit)"
   ]
  },
  {
   "cell_type": "markdown",
   "id": "6bb30d49",
   "metadata": {},
   "source": [
    "#### ICOSHIFT alignment"
   ]
  },
  {
   "cell_type": "code",
   "execution_count": null,
   "id": "28073eb2",
   "metadata": {},
   "outputs": [],
   "source": [
    "peak_width = 0.01\n",
    "\n",
    "ppm_range = filtered_df.iloc[:, 0].max() - filtered_df.iloc[:, 0].min()\n",
    "n_intervals = int(ppm_range / peak_width)\n",
    "\n",
    "aligned_icoshift = dp.align_samples_using_icoshift(referenced_df,\n",
    "                                             n_intervals = n_intervals, # determines how the spectrum is divided into smaller regions (intervals) before alignment\n",
    "                                            target = 'maxcorr',  # the reference that all other spectra are aligned to\n",
    "                                            #target = filtered_df.iloc[5, 1:].to_numpy()    # use the 6th sample as the target\n",
    "                                            )\n",
    "\n",
    "dp.create_nmr_plot(aligned_icoshift, \n",
    "                    x_axis_col='Chemical Shift (ppm)', \n",
    "                    start_column=1, \n",
    "                    end_column=None, \n",
    "                    title='Aligned_NMR Spectra Overlapping',\n",
    "                    xaxis_title='Chemical Shift (ppm)',\n",
    "                    yaxis_title='Intensity',\n",
    "                    legend_title='Samples',\n",
    "                    output_dir='images', \n",
    "                    output_file='Aligned_ICOSHIFT_nmr_spectra_overlapping_filtered.html',\n",
    "                    show_fig=False)\n"
   ]
  },
  {
   "cell_type": "markdown",
   "id": "91773b34",
   "metadata": {},
   "source": [
    "#### RAFFT alignment"
   ]
  },
  {
   "cell_type": "code",
   "execution_count": null,
   "id": "563b376e",
   "metadata": {},
   "outputs": [],
   "source": [
    "# For RAFFT (recursive FFT cross-correlation) alignment:\n",
    "aligned_RAFFT = dp.RAFFT_df(referenced_df, \n",
    "                            reference_idx=1,\n",
    "                            shift_ppm=0.08, # Maximum allowed shift per segment in ppm.\n",
    "                            lookahead=1) # How many recursive steps to allow when a segment seems misaligned.\n",
    "                                         # Used balance between under- and over-correction during alignment.\n",
    "\n",
    "dp.create_nmr_plot(aligned_RAFFT, \n",
    "                    x_axis_col='Chemical Shift (ppm)', \n",
    "                    start_column=1, \n",
    "                    end_column=None, \n",
    "                    title='Aligned_RAFFT_NMR Spectra Overlapping',\n",
    "                    xaxis_title='Chemical Shift (ppm)',\n",
    "                    yaxis_title='Intensity',\n",
    "                    legend_title='Samples',\n",
    "                    output_dir='images', \n",
    "                    output_file='Aligned_RAFFT_nmr_spectra_overlapping_filtered.html',\n",
    "                    show_fig=False)"
   ]
  },
  {
   "cell_type": "markdown",
   "id": "e5addebc",
   "metadata": {},
   "source": [
    "#### PAFFT alignment"
   ]
  },
  {
   "cell_type": "code",
   "execution_count": null,
   "id": "4cafd0d3",
   "metadata": {},
   "outputs": [],
   "source": [
    "# For PAFFT alignment (with a chosen segment size, e.g., 25):\n",
    "aligned_PAFFT = dp.PAFFT_df(referenced_df, \n",
    "                           segSize_ppm= 0.08,  # segment size in ppm\n",
    "                           reference_idx=0,\n",
    "                           shift_ppm= 0.05)     # Maximum allowed shift per segment in ppm.\n",
    "\n",
    "\n",
    "dp.create_nmr_plot(aligned_PAFFT, \n",
    "                    x_axis_col='Chemical Shift (ppm)', \n",
    "                    start_column=1, \n",
    "                    end_column=None, \n",
    "                    title='Aligned_PAFFT_NMR Spectra Overlapping',\n",
    "                    xaxis_title='Chemical Shift (ppm)',\n",
    "                    yaxis_title='Intensity',\n",
    "                    legend_title='Samples',\n",
    "                    output_dir='images', \n",
    "                    output_file='Aligned_PAFFT_nmr_spectra_overlapping_filtered.html',\n",
    "                    show_fig=False)"
   ]
  },
  {
   "cell_type": "markdown",
   "id": "ee81afaf",
   "metadata": {},
   "source": [
    "#### Alignment Comparison"
   ]
  },
  {
   "cell_type": "code",
   "execution_count": null,
   "id": "01cd9af0",
   "metadata": {},
   "outputs": [],
   "source": [
    "# aligned_icoshift, aligned_PAFFT, aligned_RAFFT\n",
    "dataframes = [filtered_df, \n",
    "              aligned_icoshift, \n",
    "              aligned_PAFFT, \n",
    "              aligned_RAFFT]\n",
    "\n",
    "titles = [\"Filtered Original Data\",\n",
    "          \"ICOSHIFT Alignment\", \n",
    "          \"PAFFT Alignment\", \n",
    "          \"RAFFT Alignment\"]\n",
    "\n",
    "# Create the vertical multiplot.\n",
    "fig = dp.create_vertical_multiplot(\n",
    "    dataframes,\n",
    "    titles,\n",
    "    x_axis_col='Chemical Shift (ppm)',\n",
    "    start_column=1,\n",
    "    end_column=None,\n",
    "    xaxis_title='Chemical Shift (ppm)',\n",
    "    yaxis_title='Intensity',\n",
    "    legend_title='Samples',\n",
    "    output_dir='images',\n",
    "    output_file='Aligned_NMR_Spectra_Vertical_Multiplot.html',\n",
    "    show_fig=False)"
   ]
  },
  {
   "cell_type": "markdown",
   "id": "1f7452f2",
   "metadata": {},
   "source": [
    "#### Choose your prefered alignment method"
   ]
  },
  {
   "cell_type": "code",
   "execution_count": null,
   "id": "638bc284",
   "metadata": {},
   "outputs": [],
   "source": [
    "aligned_methods = {\n",
    "    \"ICOSHIFT\": aligned_icoshift,\n",
    "    \"PAFFT\": aligned_PAFFT,\n",
    "    \"RAFFT\": aligned_RAFFT,\n",
    "    \"NONE\": filtered_df\n",
    "}\n",
    "\n",
    "# User must choose the best transformation method\n",
    "aligned_method = \"ICOSHIFT\"\n",
    "\n",
    "aligned_df = aligned_methods[aligned_method]"
   ]
  },
  {
   "cell_type": "markdown",
   "id": "3a134943",
   "metadata": {},
   "source": [
    "---\n",
    "### 6. Export for MetaboAnalyst\n",
    "\n",
    "The processed and aligned data is exported in a CSV format compatible with MetaboAnalyst. This export includes both the spectral data and the sample metadata."
   ]
  },
  {
   "cell_type": "code",
   "execution_count": null,
   "id": "cbeffed3",
   "metadata": {},
   "outputs": [],
   "source": [
    "metabo_df = dp.export_metaboanalyst(aligned_df, df_metadata,\n",
    "                     sample_id_col=\"NMR_filename\",\n",
    "                     class_col=\"ATTRIBUTE_group\",\n",
    "                     output_file=\"Metaboanalyst_aligned.csv\")"
   ]
  },
  {
   "cell_type": "markdown",
   "id": "5a01c8c7",
   "metadata": {},
   "source": [
    "---\n",
    "### 7. Quality Control (QC) Accessment\n",
    "In this section, we focus on evaluating the quality and consistency of our QC samples by filtering and plotting their NMR spectra. We then define key peak intervals, calculate the area under the curve for each, and plot these areas (with mean and standard deviation) to assess variability. This step confirms data quality before further analysis."
   ]
  },
  {
   "cell_type": "code",
   "execution_count": null,
   "id": "de2ce97a",
   "metadata": {},
   "outputs": [],
   "source": [
    "# Specify the groups you want to filter by:\n",
    "target_groups = [\"Total Pool\"]\n",
    "\n",
    "# Filter df_metadata for samples that belong to the target groups\n",
    "QC_samples = df_metadata.loc[df_metadata[\"ATTRIBUTE_group\"].isin(target_groups), \"NMR_filename\"]\n",
    "\n",
    "# Filter normalized_df to keep only the \"Chemical Shift (ppm)\" column and the selected sample columns\n",
    "QC_samples_df = aligned_df[[\"Chemical Shift (ppm)\"] + list(QC_samples)]\n",
    "\n",
    "dp.create_nmr_plot(QC_samples_df, \n",
    "                    x_axis_col='Chemical Shift (ppm)', \n",
    "                    start_column=1, \n",
    "                    end_column=None, \n",
    "                    title='QC_NMR Spectra',\n",
    "                    xaxis_title='Chemical Shift (ppm)',\n",
    "                    yaxis_title='Intensity',\n",
    "                    legend_title='Samples',\n",
    "                    output_dir='images', \n",
    "                    output_file='QC_spectra.html',\n",
    "                    show_fig=False)"
   ]
  },
  {
   "cell_type": "code",
   "execution_count": null,
   "id": "eb737346",
   "metadata": {},
   "outputs": [],
   "source": [
    "# Define peak intervals in ppm you want to investigate\n",
    "peak_intervals = [(7.79, 7.83), \n",
    "                  (7.5, 7.55)]\n",
    "\n",
    "# Assume 'df' is your DataFrame with a \"Chemical Shift (ppm)\" column plus sample columns.\n",
    "# For instance, you could use QC_samples_df, aligned_df, or normalized_df.\n",
    "areas = dp.calculate_peak_area(QC_samples_df, \n",
    "                               peak_intervals, \n",
    "                               x_axis=\"Chemical Shift (ppm)\")\n",
    "\n",
    "# Plot the calculated peak areas for each defined region.\n",
    "dp.plot_peak_areas(areas, output_dir=\"images\")"
   ]
  },
  {
   "cell_type": "markdown",
   "id": "e2f4edfc",
   "metadata": {},
   "source": [
    "---\n",
    "### 8. STOCSY Analysis\n",
    "\n",
    "STOCSY (Statistical Total Correlation Spectroscopy) is performed to investigate covariance and correlation across the spectral data. This section shows both the standard and group-specific STOCSY analyses."
   ]
  },
  {
   "cell_type": "code",
   "execution_count": null,
   "id": "6032bd88",
   "metadata": {
    "scrolled": true
   },
   "outputs": [],
   "source": [
    "dp.STOCSY(4.62, # target in ppm\n",
    "          aligned_df.drop(columns='Chemical Shift (ppm)'), # data\n",
    "          aligned_df['Chemical Shift (ppm)']) # chemical shift axis"
   ]
  },
  {
   "cell_type": "markdown",
   "id": "5416164b",
   "metadata": {},
   "source": [
    "---\n",
    "###### Remove QC samples (Blank, QC pools, etc.)"
   ]
  },
  {
   "cell_type": "code",
   "execution_count": null,
   "id": "58b37083",
   "metadata": {},
   "outputs": [],
   "source": [
    "# Specify the groups you want to filter by:\n",
    "target_groups = [\"Non-Smoker\", \"Smoker\"]\n",
    "\n",
    "# Filter df_metadata for samples that belong to the target groups\n",
    "selected_samples = df_metadata.loc[df_metadata[\"ATTRIBUTE_group\"].isin(target_groups), \"NMR_filename\"]\n",
    "\n",
    "# Filter normalized_df to keep only the \"Chemical Shift (ppm)\" column and the selected sample columns\n",
    "filtered_data_df = aligned_df[[\"Chemical Shift (ppm)\"] + list(selected_samples)]\n",
    "\n",
    "print(\"Original normalized_df shape:\", aligned_df.shape)\n",
    "print(\"Filtered normalized_df shape:\", filtered_data_df.shape)"
   ]
  },
  {
   "cell_type": "markdown",
   "id": "20f206de",
   "metadata": {},
   "source": [
    "---\n",
    "### 9. Data Transformation, Normalization, and Scaling\n",
    "\n",
    "Before multivariate analysis, we apply transformations (log, square root, cube root) to the data. We then compare several normalization methods (e.g., Z-score, PQN) and scaling techniques (e.g., mean centering, auto scaling, Pareto scaling) by visualizing the distributions before and after processing."
   ]
  },
  {
   "cell_type": "code",
   "execution_count": null,
   "id": "01ff4ccc",
   "metadata": {},
   "outputs": [],
   "source": [
    "# Log transformation (make sure the data has only positive values)\n",
    "log_transformed_data = dp.log_transform(filtered_data_df)\n",
    "\n",
    "# Square root transformation (make sure the data is non-negative)\n",
    "sqrt_transformed_data = dp.sqrt_transform(filtered_data_df)\n",
    "\n",
    "# Cube root transformation (can handle both positive and negative values)\n",
    "cbrt_transformed_data = dp.cbrt_transform(filtered_data_df)"
   ]
  },
  {
   "cell_type": "markdown",
   "id": "6539a58d",
   "metadata": {},
   "source": [
    "#### Choose your prefered transformation of the data"
   ]
  },
  {
   "cell_type": "code",
   "execution_count": null,
   "id": "dd7ac711",
   "metadata": {},
   "outputs": [],
   "source": [
    "transformation_methods = {\n",
    "    \"LOG\": log_transformed_data,\n",
    "    \"SQRT\": sqrt_transformed_data,\n",
    "    \"CUBERT\": cbrt_transformed_data,\n",
    "    \"NONE\": filtered_data_df}\n",
    "\n",
    "# User must choose the best transformation method\n",
    "transformation_method = \"NONE\"\n",
    "\n",
    "transformed_data = transformation_methods[transformation_method]\n",
    "print(f\"The transformation method in use is: {transformation_method}\")\n",
    "\n",
    "dp.compare_normalization_plots(\n",
    "    before_df= filtered_data_df,\n",
    "    after_df= transformed_data,\n",
    "    sample_limit=50,\n",
    "    exclude_columns=[\"Chemical Shift (ppm)\"],\n",
    "    title_before=\"Before data Transformation\",\n",
    "    title_after=f\"After data Transformation: {transformation_method}\",\n",
    "    zoom_in_std=2)"
   ]
  },
  {
   "cell_type": "markdown",
   "id": "8bd52ec2",
   "metadata": {},
   "source": [
    "#### Normalization"
   ]
  },
  {
   "cell_type": "code",
   "execution_count": null,
   "id": "811ce777",
   "metadata": {},
   "outputs": [],
   "source": [
    "# Normalization functions\n",
    "\n",
    "# Z-score normalization (no columns to exclude)\n",
    "z_normalized_df = dp.z_score_normalize(transformed_data, exclude_columns='Chemical Shift (ppm)')\n",
    "\n",
    "# Control-based normalization with a specified control column\n",
    "#control_normalized_df = dp.normalize_by_control(transformed_data, control_column=\"Smoking_Status_NMR_ST000411.1.fid\\nN3673-1h1\\nCHEAR\", exclude_columns='Chemical Shift (ppm)')\n",
    "\n",
    "# PQN Normalization (no need to drop any columns)\n",
    "pqn_normalized_df = dp.pqn_normalize(transformed_data, exclude_columns='Chemical Shift (ppm)')\n",
    "\n",
    "# Standard Deviation Normalization\n",
    "std_dev_normalized_df = dp.std_dev_normalize(transformed_data, exclude_columns='Chemical Shift (ppm)')\n",
    "\n",
    "# Median Normalization (target median = 1)\n",
    "median_normalized_df = dp.median_normalize(transformed_data, target_median=1.0, exclude_columns='Chemical Shift (ppm)')\n",
    "\n",
    "print(\"Data Normalized.\")"
   ]
  },
  {
   "cell_type": "markdown",
   "id": "85742e4b",
   "metadata": {},
   "source": [
    "#### Choose your prefered normalization of the data"
   ]
  },
  {
   "cell_type": "code",
   "execution_count": null,
   "id": "bc0904d7",
   "metadata": {},
   "outputs": [],
   "source": [
    "normalization_methods = {\n",
    "    \"Z_score\": z_normalized_df,\n",
    "#    \"CONTROL\": control_normalized_df,\n",
    "    \"PQN\": pqn_normalized_df,\n",
    "    \"STD_DEV\": std_dev_normalized_df,\n",
    "    \"MEDIAN\": median_normalized_df,\n",
    "    \"NONE\": aligned_df}\n",
    "\n",
    "# User must choose the best normalization method\n",
    "normalization_method = \"PQN\"\n",
    "\n",
    "normalized_df = normalization_methods[normalization_method]\n",
    "print(f\"The Normalization method in use is: {normalization_method}\")\n",
    "\n",
    "dp.compare_normalization_plots(\n",
    "    before_df=filtered_data_df,\n",
    "    after_df=normalized_df,\n",
    "    sample_limit=50,\n",
    "    exclude_columns=[\"Chemical Shift (ppm)\"],\n",
    "    title_before=\"Before Normalization\",\n",
    "    title_after=f\"After Normalization: {normalization_method}\",\n",
    "    zoom_in_std=2)"
   ]
  },
  {
   "cell_type": "markdown",
   "id": "19cfe55e",
   "metadata": {},
   "source": [
    "#### Scaling"
   ]
  },
  {
   "cell_type": "code",
   "execution_count": null,
   "id": "b7720157",
   "metadata": {},
   "outputs": [],
   "source": [
    "# Mean Centering\n",
    "mean_centered_df = dp.mean_center(normalized_df, exclude_columns='Chemical Shift (ppm)')\n",
    "\n",
    "# Auto Scaling\n",
    "auto_scaled_df = dp.auto_scale(normalized_df, exclude_columns='Chemical Shift (ppm)')\n",
    "\n",
    "# Auto Scaling MetaboAnalyst\n",
    "auto_scaled_m_df = dp.auto_scale_m(normalized_df, exclude_columns='Chemical Shift (ppm)')\n",
    "\n",
    "# Pareto Scaling\n",
    "pareto_scaled_df = dp.pareto_scale(normalized_df, exclude_columns='Chemical Shift (ppm)')\n",
    "\n",
    "# Range Scaling\n",
    "range_scaled_df = dp.range_scale(normalized_df, exclude_columns='Chemical Shift (ppm)')\n",
    "\n",
    "print(\"Data Scaled.\")"
   ]
  },
  {
   "cell_type": "markdown",
   "id": "afef2961",
   "metadata": {},
   "source": [
    "#### Choose your prefered scaling of the data"
   ]
  },
  {
   "cell_type": "code",
   "execution_count": null,
   "id": "78eb0b28",
   "metadata": {},
   "outputs": [],
   "source": [
    "scale_methods = {\n",
    "    \"MEAN_CENTERED\": mean_centered_df,\n",
    "    \"AUTO\": auto_scaled_df,\n",
    "    \"AUTO_M\":auto_scaled_m_df,\n",
    "    \"PARETO\": pareto_scaled_df,\n",
    "    \"RANGE\": range_scaled_df,\n",
    "    \"NONE\": aligned_df}\n",
    "\n",
    "# User must choose the best normalization method\n",
    "scale_method = \"RANGE\"\n",
    "\n",
    "scaled_df = scale_methods[scale_method]\n",
    "print(f\"The Scaling method in use is: {scale_method}\")\n",
    "\n",
    "dp.compare_normalization_plots(\n",
    "    before_df=filtered_data_df,\n",
    "    after_df=scaled_df,\n",
    "    sample_limit=50,\n",
    "    exclude_columns=[\"Chemical Shift (ppm)\"],\n",
    "    title_before=\"Before Sacaling\",\n",
    "    title_after=f\"After Sacaling: {scale_method}\",\n",
    "    zoom_in_std=2)"
   ]
  },
  {
   "cell_type": "markdown",
   "id": "ca339efd",
   "metadata": {},
   "source": [
    "---\n",
    "#### Overview of data handling"
   ]
  },
  {
   "cell_type": "code",
   "execution_count": null,
   "id": "d33c0165",
   "metadata": {},
   "outputs": [],
   "source": [
    "print(f\"\"\"The original data have being processed using:\n",
    "\n",
    "    removed unwanted outer regions: {start_limit, end_limit} ppm;\n",
    "    removed unwanted inner regions: {regions_to_mask} ppm;\n",
    "    samples {samples_to_remove} was/were removed;\n",
    "    aligned methods: {aligned_method};\n",
    "    transformation method: {transformation_method};\n",
    "    normalization method: {normalization_method};\n",
    "    scale method: {scale_method}\n",
    "    \"\"\")"
   ]
  },
  {
   "cell_type": "code",
   "execution_count": null,
   "id": "46c6aefb",
   "metadata": {},
   "outputs": [],
   "source": [
    "dp.create_nmr_plot(scaled_df, \n",
    "                    #x_axis_col='Chemical Shift (ppm)', \n",
    "                    start_column=1, \n",
    "                    end_column=None, \n",
    "                    title='Scaled_NMR Spectra',\n",
    "                    xaxis_title='Chemical Shift (ppm)',\n",
    "                    yaxis_title='Intensity',\n",
    "                    legend_title='Samples',\n",
    "                    output_dir='images', \n",
    "                    output_file='Scaled_spectra.html',\n",
    "                    show_fig=False)"
   ]
  },
  {
   "cell_type": "markdown",
   "id": "8a725177",
   "metadata": {},
   "source": [
    "---\n",
    "### * Export for MetaboAnalyst\n",
    "\n",
    "The processed and aligned data is exported in a CSV format compatible with MetaboAnalyst. This export includes both the spectral data and the sample metadata."
   ]
  },
  {
   "cell_type": "code",
   "execution_count": null,
   "id": "289fbfdb",
   "metadata": {},
   "outputs": [],
   "source": [
    "metabo_df_norm_scaled = dp.export_metaboanalyst(scaled_df, df_metadata,\n",
    "                     sample_id_col=\"NMR_filename\",\n",
    "                     class_col=\"ATTRIBUTE_group\",\n",
    "                     output_file=\"Metaboanalyst_norm_scaled.csv\")"
   ]
  },
  {
   "cell_type": "markdown",
   "id": "807e8bfa",
   "metadata": {},
   "source": [
    "---\n",
    "### 10. Multivariate Analysis: PCA and PLS-DA\n",
    "\n",
    "We perform Principal Component Analysis (PCA) to visualize the major sources of variance in the data. Next, we carry out Partial Least Squares Discriminant Analysis (PLS-DA) to evaluate group separations and derive VIP scores for variable importance. Score plots, loading plots, and cross-validation performance plots are generated.\n"
   ]
  },
  {
   "cell_type": "markdown",
   "id": "cb7b4480",
   "metadata": {},
   "source": [
    "#### Principal Component Analysis (PCA)"
   ]
  },
  {
   "cell_type": "code",
   "execution_count": null,
   "id": "0864df80",
   "metadata": {},
   "outputs": [],
   "source": [
    "pca_model, scores_df, explained_variance = dp.perform_pca_analysis(\n",
    "      data=scaled_df,\n",
    "      pc_x=1,\n",
    "      pc_y=2,\n",
    "      n_components=None,          # Let the function determine the optimal number based on variance_threshold\n",
    "      variance_threshold=90,\n",
    "      metadata=df_metadata,       # Provide the metadata DataFrame\n",
    "      color_column=\"ATTRIBUTE_group\",  # Use this column for color coding\n",
    "     sample_id_col=\"NMR_filename\",\n",
    "      output_dir='images',\n",
    "      score_plot_filename=\"PCA_Score_Plot.html\",\n",
    "      ev_plot_filename=\"PCA_Explained_Variance.html\",\n",
    "      show_fig=False)\n"
   ]
  },
  {
   "cell_type": "code",
   "execution_count": null,
   "id": "895ab74a",
   "metadata": {},
   "outputs": [],
   "source": [
    "# Retrieve the loadings from the PCA model\n",
    "loadings = pca_model.loadings[0]\n",
    "\n",
    "# Plot the loadings for the first PLS-DA component\n",
    "plt.figure(figsize=(10, 3))\n",
    "plt.plot(normalized_df['Chemical Shift (ppm)'], \n",
    "         loadings, \n",
    "         label='PCA Component 1 Loading')\n",
    "\n",
    "plt.xlabel('Chemical Shift (ppm)')\n",
    "plt.ylabel('Loading Value')\n",
    "plt.title('Line Plot of PCA Component 1 Loadings')\n",
    "plt.legend()\n",
    "plt.gca().invert_xaxis()  # Invert x-axis to follow typical NMR conventions\n",
    "plt.tight_layout()\n",
    "plt.show()"
   ]
  },
  {
   "cell_type": "code",
   "execution_count": null,
   "id": "c27cc056",
   "metadata": {},
   "outputs": [],
   "source": [
    "PC_of_choose = 1\n",
    "fig = dp.plot_pca_loadings(scaled_df, \n",
    "              pca_model, \n",
    "              PC_choose=PC_of_choose,  # Choose the PC to plot the Loadings (1 for PC1)\n",
    "              output_dir='images', \n",
    "              output_file=f'PCA{PC_of_choose}_loading_plot.html')"
   ]
  },
  {
   "cell_type": "code",
   "execution_count": null,
   "id": "440e6b7d",
   "metadata": {},
   "outputs": [],
   "source": [
    "PC_of_choose = 1\n",
    "fig = dp.plot_pca_loadings_with_spectra(\n",
    "    data=scaled_df,                # Data used for PCA loadings plot (x-axis)\n",
    "    normalized_df=scaled_df,    # Original normalized spectra to overlay\n",
    "    pca_model=pca_model,            # Your fitted PCA model\n",
    "    PC_choose=PC_of_choose,                    # Plot PC1 loadings\n",
    "    x_axis_col='Chemical Shift (ppm)',\n",
    "    gap=0.0001,                        # Vertical gap between spectra traces\n",
    "    spectra_scale=0.0001,              # Scale down the intensity of the normalized spectra\n",
    "    output_dir='images',\n",
    "    output_file=f'PCA_Loadings_{PC_of_choose}_with_Spectra.html',\n",
    "    save_fig=True,\n",
    "    show_fig=False)"
   ]
  },
  {
   "cell_type": "markdown",
   "id": "18fe994f",
   "metadata": {},
   "source": [
    "#### Partial Least Squares Discriminant Analysis (PLS-DA)"
   ]
  },
  {
   "cell_type": "code",
   "execution_count": null,
   "id": "bd70bb4f",
   "metadata": {},
   "outputs": [],
   "source": [
    "pls_model, scores_df = dp.perform_pls_da(\n",
    "      data=scaled_df,           # DataFrame with columns = samples\n",
    "      metadata=df_metadata,         # DataFrame with group info\n",
    "      group_col=\"ATTRIBUTE_group\",  \n",
    "      sample_id_col=\"NMR_filename\",\n",
    "      n_components=3,\n",
    "      output_dir=\"images\",\n",
    "      score_plot_filename=\"PLSDA_Score_Plot.html\",\n",
    "      show_fig=False)"
   ]
  },
  {
   "cell_type": "markdown",
   "id": "a7c6986c",
   "metadata": {},
   "source": [
    "###### Validation - PLS-DA"
   ]
  },
  {
   "cell_type": "code",
   "execution_count": null,
   "id": "5ff25ea1",
   "metadata": {},
   "outputs": [],
   "source": [
    "df_meta_indexed = df_metadata.set_index(\"NMR_filename\").reindex(filtered_data_df.T.index)\n",
    "\n",
    "q2_scores, r2_scores = dp.evaluate_plsda_components(\n",
    "    X=filtered_data_df.T,\n",
    "    y=df_meta_indexed[\"ATTRIBUTE_group\"],\n",
    "    groups=filtered_data_df.transpose().index,\n",
    "    n_splits=5,\n",
    "    save_fig=True,\n",
    "    show_fig=True,\n",
    "    output_dir='images',\n",
    "    output_file='PLSDA_Q2_R2_Scores.png',\n",
    "    figure_size=(10, 5))"
   ]
  },
  {
   "cell_type": "code",
   "execution_count": null,
   "id": "adb7c3bc",
   "metadata": {},
   "outputs": [],
   "source": [
    "component = 1\n",
    "# Plot loadings for PLS-DA Component 1 without displaying the plot\n",
    "fig2 = dp.plot_plsda_loadings(filtered_data_df, \n",
    "                              pls_model, \n",
    "                              component=component, \n",
    "                              x_axis_col='Chemical Shift (ppm)', \n",
    "                              output_dir='images', \n",
    "                              output_file=f'PLSDA_Component_{component}_Loadings.html',\n",
    "                              save_fig=True, \n",
    "                              show_fig=False)"
   ]
  },
  {
   "cell_type": "code",
   "execution_count": null,
   "id": "90f6b9c8",
   "metadata": {},
   "outputs": [],
   "source": [
    "# Transpose the data (dropping the axis) so that columns become variables:\n",
    "X_features = filtered_data_df.drop(columns=[\"Chemical Shift (ppm)\"]).T\n",
    "\n",
    "# Now, set the column names to the ppm values from the original axis:\n",
    "X_features.columns = aligned_df[\"Chemical Shift (ppm)\"].values\n",
    "\n",
    "# Now call analyze_vip_scores using X_features:\n",
    "top_vip_df = dp.analyze_vip_scores(pls_model=pls_model, \n",
    "                                    X=X_features,\n",
    "                                    top_n=50,\n",
    "                                    save_df=True,\n",
    "                                    output_dir='images',\n",
    "                                    output_file_df='VIP_scores.csv',\n",
    "                                    plot_fig=True,\n",
    "                                    save_fig=True,\n",
    "                                    output_file_plot='VIP_scores_plot.html',\n",
    "                                    show_fig=False)\n",
    "\n",
    "display(top_vip_df.head(10))"
   ]
  },
  {
   "cell_type": "code",
   "execution_count": null,
   "id": "b100f739",
   "metadata": {},
   "outputs": [],
   "source": [
    "# Maybe to create a bar plot overlayed with the spectra os normalized_df"
   ]
  },
  {
   "cell_type": "code",
   "execution_count": null,
   "id": "8ad90fcc",
   "metadata": {},
   "outputs": [],
   "source": [
    "import plotly.express as px\n",
    "\n",
    "# Create an interactive bar plot using Plotly Express\n",
    "fig = px.bar(top_vip_df, \n",
    "             x='VIP Score', \n",
    "             y='Variable', \n",
    "             orientation='h',  # Horizontal bar plot\n",
    "             title='VIP Scores of Variables in PLS Model')\n",
    "\n",
    "# Update layout\n",
    "fig.update_layout(\n",
    "    xaxis_title='VIP Score',\n",
    "    yaxis_title='Variable'\n",
    ")\n",
    "\n",
    "# Show the interactive plot\n",
    "fig.show()"
   ]
  },
  {
   "cell_type": "markdown",
   "id": "b6234cb5",
   "metadata": {},
   "source": [
    "#### _Orthogonal_-Partial Least Squares Discriminant Analysis (_O_-PLS-DA)"
   ]
  },
  {
   "cell_type": "code",
   "execution_count": null,
   "id": "33bedd2a",
   "metadata": {},
   "outputs": [],
   "source": [
    "model_dict = dp.perform_opls_da(\n",
    "    data=scaled_df,               # DataFrame with columns = samples\n",
    "    metadata=df_metadata,             # DataFrame with group info\n",
    "    group_col=\"ATTRIBUTE_group\",      # Grouping variable in metadata\n",
    "    sample_id_col=\"NMR_filename\",  # Column matching sample IDs\n",
    "    n_components=2,                   # 1 predictive + 1 orthogonal component\n",
    "    output_dir=\"images\",              # Directory to save score plot\n",
    "    score_plot_filename=f\"O-PLSDA_score_plot.html\",\n",
    "    show_fig=True)                    # Set to True to display the plot"
   ]
  },
  {
   "cell_type": "code",
   "execution_count": null,
   "id": "d1b75a5b",
   "metadata": {},
   "outputs": [],
   "source": [
    "n_features = scaled_df.shape[0]\n",
    "x_axis_values = np.linspace(0, 10, n_features)  # Example: 0 to 10 (e.g., minutes or ppm)\n",
    "data_loadings = pd.DataFrame({'RT(min)': x_axis_values})\n",
    "\n",
    "# Plot the predictive loadings.\n",
    "fig_pred = dp.plot_oplsda_predictive_loadings(\n",
    "    data=data_loadings,\n",
    "    model_dict=model_dict,\n",
    "    x_axis_col='RT(min)',\n",
    "    output_dir='images',\n",
    "    output_file=\"O-PLSDA_predictive_loadings.html\",\n",
    "    save_fig=True,\n",
    "    show_fig=True)"
   ]
  },
  {
   "cell_type": "code",
   "execution_count": null,
   "id": "8d0e775a",
   "metadata": {},
   "outputs": [],
   "source": [
    "component = 1\n",
    "\n",
    "n_features = scaled_df.shape[0]\n",
    "x_axis_values = np.linspace(0, 10, n_features)  # Example: 0 to 10 (e.g., minutes or ppm)\n",
    "data_loadings = pd.DataFrame({'RT(min)': x_axis_values})\n",
    "\n",
    "fig_ortho = dp.plot_oplsda_orthogonal_loadings(\n",
    "    data=data_loadings,\n",
    "    model_dict=model_dict,\n",
    "    component=component, \n",
    "    x_axis_col='RT(min)',\n",
    "    output_dir='images',              # Directory to save score plot\n",
    "    output_file=f\"O-PLSDA_orthogonal_loadings_{component}.html\",\n",
    "    save_fig=True,\n",
    "    show_fig=False)"
   ]
  },
  {
   "cell_type": "code",
   "execution_count": null,
   "id": "67924646",
   "metadata": {},
   "outputs": [],
   "source": [
    "top_vip = dp.analyze_opls_vip_scores(\n",
    "    model_dict=model_dict,\n",
    "    X=scaled_df.transpose(),  # Transpose to have samples as rows\n",
    "    top_n=10,\n",
    "    save_df=False,\n",
    "    plot_fig=True,\n",
    "    save_fig=True,\n",
    "    output_file_plot=\"OPLS_VIP_scores_plot.html\",\n",
    "    show_fig=False)\n",
    "\n",
    "print(\"Top VIP scores:\")\n",
    "print(top_vip)"
   ]
  },
  {
   "cell_type": "markdown",
   "id": "a6a4dc8c",
   "metadata": {},
   "source": [
    "#### Hierarchical Cluster Analysis (HCA)"
   ]
  },
  {
   "cell_type": "code",
   "execution_count": null,
   "id": "c05dbadb",
   "metadata": {
    "scrolled": true
   },
   "outputs": [],
   "source": [
    "# Perform HCA and generate the dendrogram\n",
    "hca_result = dp.perform_hca(\n",
    "    data=scaled_df,                 # DataFrame with columns = samples\n",
    "    metadata=df_metadata,               # Metadata DataFrame with group info\n",
    "    group_col=\"ATTRIBUTE_group\",        # Grouping variable\n",
    "    sample_id_col=\"NMR_filename\",       # Sample ID column in metadata\n",
    "    method=\"ward\",                      # Linkage method\n",
    "    metric=\"euclidean\",                 # Distance metric\n",
    "    n_clusters=2,                       # Optionally assign 2 clusters\n",
    "    output_dir=\"images\",                # Directory to save the dendrogram\n",
    "    dendrogram_filename=\"hca_dendrogram.html\",\n",
    "    show_fig=True)                      # Display the dendrogram interactively"
   ]
  },
  {
   "cell_type": "markdown",
   "id": "a7caec25",
   "metadata": {},
   "source": [
    "#### Support Vector Machines (SVM)"
   ]
  },
  {
   "cell_type": "code",
   "execution_count": null,
   "id": "edd6cdaf",
   "metadata": {},
   "outputs": [],
   "source": []
  },
  {
   "cell_type": "markdown",
   "id": "4cb286d0",
   "metadata": {},
   "source": [
    "#### Random Forests (RF)"
   ]
  },
  {
   "cell_type": "code",
   "execution_count": null,
   "id": "cab84447",
   "metadata": {},
   "outputs": [],
   "source": []
  },
  {
   "cell_type": "markdown",
   "id": "ed4e8b0d",
   "metadata": {},
   "source": [
    "---\n",
    "### 11. Organizing for DAFdiscovery"
   ]
  },
  {
   "attachments": {
    "dafDISCOVERY_icon_small-01-01.png": {
     "image/png": "[encoded data removed]"
    }
   },
   "cell_type": "markdown",
   "id": "4977868a",
   "metadata": {},
   "source": [
    "![dafDISCOVERY_icon_small-01-01.png](attachment:dafDISCOVERY_icon_small-01-01.png)"
   ]
  },
  {
   "cell_type": "code",
   "execution_count": null,
   "id": "f115b4fd",
   "metadata": {},
   "outputs": [],
   "source": [
    "Ordered_Samples = df_metadata['Samples'].values.tolist()\n",
    "Ordered_HPLC_DAD_filename = df_metadata['NMR_filename'].values.tolist()\n",
    "Ordered_BioAct_filename = df_metadata['BioAct_filename'].values.tolist()\n",
    "print('You are about to merge data from: HPLC-DAD + BioAct. Go for Option 3')\n",
    "data_inuse = ['NMR', 'BioAct']\n",
    "\n",
    "print(f'Data in Use: {data_inuse}')"
   ]
  },
  {
   "cell_type": "code",
   "execution_count": null,
   "id": "655377f5",
   "metadata": {},
   "outputs": [],
   "source": [
    "normalized_df_data = normalized_df.drop([\"Chemical Shift (ppm)\"], axis=1)\n",
    "axis = normalized_df[\"Chemical Shift (ppm)\"]\n",
    "    \n",
    "else: print('Try the next one')\n",
    "\n",
    "# REORDERING data according to the Metadata (Ordered_Samples)\n",
    "\n",
    "normalized_df_data = normalized_df_data[Ordered_HPLC_DAD_filename] # reorder columns according to the sampleIDs\n",
    "normalized_df_data.rename(columns={i:j for i,j in zip(Ordered_HPLC_DAD_filename,Ordered_Samples)}, inplace=True) # rename column headers as sampleIDs\n",
    "\n",
    "print('Data is reordered according to the Matadata.')"
   ]
  },
  {
   "cell_type": "code",
   "execution_count": null,
   "id": "86c13103",
   "metadata": {},
   "outputs": [],
   "source": [
    "# Chose driver to produce highlighted NMR spectra showing highly correlated peaks\n",
    "\n",
    "%matplotlib notebook\n",
    "\n",
    "# DRIVER FROM THE HPLC_DAD data\n",
    "driver = 21.0\n",
    "\n",
    "corr, covar = dp.STOCSY_LCDAD(driver, normalized_df_data, axis)\n",
    "plt.show()\n"
   ]
  },
  {
   "cell_type": "markdown",
   "id": "6fef35d7",
   "metadata": {},
   "source": [
    "---"
   ]
  },
  {
   "cell_type": "markdown",
   "id": "353cf70a",
   "metadata": {},
   "source": [
    "##### Thank you for using.\n",
    "\n",
    "Feel free to contact us at ricardo_mborges@ufrj.br for doubts, ideas for next projects, or for collaborations. \n",
    "\n",
    "Check also:\n",
    "* NMRfilter: Applying NMR compound identification using NMRfilter to match predicted to experimental data\n",
    "    * https://link.springer.com/article/10.1007/s11306-020-01748-1\n",
    "      \n",
    "  \n",
    "* DAFdiscovery: Data Fusion-based Discovery (DAFdiscovery) pipeline to aid compound annotation and bioactive compound discovery across diverse spectral data \n",
    "    * https://analyticalsciencejournals.onlinelibrary.wiley.com/doi/abs/10.1002/pca.3178\n",
    "      \n",
    "  \n",
    "* DBsimilarity: Data Base similarity (DBsimilarity) of natural products to aid compound identification on MS and NMR pipelines, similarity networking, and more\n",
    "    * https://analyticalsciencejournals.onlinelibrary.wiley.com/doi/10.1002/pca.3277"
   ]
  }
 ],
 "metadata": {
  "kernelspec": {
   "display_name": "Python 3 (ipykernel)",
   "language": "python",
   "name": "python3"
  },
  "language_info": {
   "codemirror_mode": {
    "name": "ipython",
    "version": 3
   },
   "file_extension": ".py",
   "mimetype": "text/x-python",
   "name": "python",
   "nbconvert_exporter": "python",
   "pygments_lexer": "ipython3",
   "version": "3.11.6"
  }
 },
 "nbformat": 4,
 "nbformat_minor": 5
}
